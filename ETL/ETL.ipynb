{
 "metadata": {
  "language_info": {
   "codemirror_mode": {
    "name": "ipython",
    "version": 3
   },
   "file_extension": ".py",
   "mimetype": "text/x-python",
   "name": "python",
   "nbconvert_exporter": "python",
   "pygments_lexer": "ipython3",
   "version": "3.8.3-final"
  },
  "orig_nbformat": 2,
  "kernelspec": {
   "name": "python3",
   "display_name": "Python 3"
  }
 },
 "nbformat": 4,
 "nbformat_minor": 2,
 "cells": [
  {
   "cell_type": "code",
   "execution_count": 1,
   "metadata": {},
   "outputs": [],
   "source": [
    "import sys\n",
    "sys.path.insert(0,\"/home/laura/boyaca/\")\n",
    "import boyaca_libraries as by"
   ]
  },
  {
   "cell_type": "code",
   "execution_count": 2,
   "metadata": {},
   "outputs": [],
   "source": [
    "import pandas as pd \n",
    "import tarfile"
   ]
  },
  {
   "cell_type": "code",
   "execution_count": 3,
   "metadata": {},
   "outputs": [
    {
     "output_type": "execute_result",
     "data": {
      "text/plain": [
       "'/home/laura/boyaca/boyaca_data/datos.tar.gz'"
      ]
     },
     "metadata": {},
     "execution_count": 3
    }
   ],
   "source": [
    "by.download_data(\"/home/laura/boyaca/boyaca_data/datos.tar.gz\")"
   ]
  },
  {
   "cell_type": "code",
   "execution_count": 4,
   "metadata": {},
   "outputs": [],
   "source": [
    "with tarfile.open(\"/home/laura/boyaca/boyaca_data/datos.tar.gz\", \"r:gz\") as archivo:   \n",
    "    archivo.extractall() "
   ]
  },
  {
   "cell_type": "code",
   "execution_count": 5,
   "metadata": {},
   "outputs": [],
   "source": [
    "place = pd.read_csv(f\"Profesional_data/Aquitania.csv\") "
   ]
  },
  {
   "cell_type": "code",
   "execution_count": 7,
   "metadata": {},
   "outputs": [
    {
     "output_type": "stream",
     "name": "stdout",
     "text": [
      "Unnamed: 0           int64\nInternoNumerico      int64\nFecha Nto           object\nSexo                object\nFechaMedicion       object\nEdadBiologica        int64\nZetaTE             float64\nZetaPT             float64\nAdministradora      object\nMunicipio           object\ndtype: object Index(['Unnamed: 0', 'InternoNumerico', 'Fecha Nto', 'Sexo', 'FechaMedicion',\n       'EdadBiologica', 'ZetaTE', 'ZetaPT', 'Administradora', 'Municipio'],\n      dtype='object') Unnamed: 0         0\nInternoNumerico    0\nFecha Nto          0\nSexo               0\nFechaMedicion      0\nEdadBiologica      0\nZetaTE             0\nZetaPT             0\nAdministradora     0\nMunicipio          0\ndtype: int64 (10470, 10)\n"
     ]
    },
    {
     "output_type": "execute_result",
     "data": {
      "text/plain": [
       "       InternoNumerico  Fecha Nto Sexo FechaMedicion  EdadBiologica    ZetaTE  \\\n",
       "0                10450 2010-02-17    M    2015-02-17             59 -0.638659   \n",
       "1                10590 2010-05-03    M    2015-03-05             59 -0.854475   \n",
       "2                10190 2010-05-01    M    2015-01-05             59 -0.854475   \n",
       "3                10663 2010-03-17    F    2015-03-17             59 -0.929064   \n",
       "4                10583 2010-05-03    F    2015-03-05             59 -2.611035   \n",
       "...                ...        ...  ...           ...            ...       ...   \n",
       "10465            27783 2015-09-11    F    2019-10-08             46 -3.306196   \n",
       "10466            27788 2015-09-25    M    2019-10-08             48 -1.322073   \n",
       "10467            27789 2018-05-31    M    2019-10-08             16 -0.954107   \n",
       "10468            27790 2014-08-10    M    2019-10-08             59 -1.286107   \n",
       "10469            27791 2019-06-04    F    2019-10-08              6 -1.475742   \n",
       "\n",
       "         ZetaPT                  Administradora  Municipio  \n",
       "0      0.948175              COMPARTA 200830600  AQUITANIA  \n",
       "1      0.024698              COMPARTA 200830600  AQUITANIA  \n",
       "2      0.226150              COMPARTA 200830600  AQUITANIA  \n",
       "3     -0.519700              COMPARTA 200830600  AQUITANIA  \n",
       "4     -0.318776              COMPARTA 200830600  AQUITANIA  \n",
       "...         ...                             ...        ...  \n",
       "10465 -1.136813              COMPARTA 200830600  AQUITANIA  \n",
       "10466  0.233953              COMPARTA 200830600  AQUITANIA  \n",
       "10467 -0.099158              COMPARTA 200830600  AQUITANIA  \n",
       "10468  0.327725           COMFAMILIAR 200738100  AQUITANIA  \n",
       "10469  1.251433  NUEVA EPS SUBSIDIADA AQUITANIA  AQUITANIA  \n",
       "\n",
       "[10456 rows x 9 columns]"
      ],
      "text/html": "<div>\n<style scoped>\n    .dataframe tbody tr th:only-of-type {\n        vertical-align: middle;\n    }\n\n    .dataframe tbody tr th {\n        vertical-align: top;\n    }\n\n    .dataframe thead th {\n        text-align: right;\n    }\n</style>\n<table border=\"1\" class=\"dataframe\">\n  <thead>\n    <tr style=\"text-align: right;\">\n      <th></th>\n      <th>InternoNumerico</th>\n      <th>Fecha Nto</th>\n      <th>Sexo</th>\n      <th>FechaMedicion</th>\n      <th>EdadBiologica</th>\n      <th>ZetaTE</th>\n      <th>ZetaPT</th>\n      <th>Administradora</th>\n      <th>Municipio</th>\n    </tr>\n  </thead>\n  <tbody>\n    <tr>\n      <th>0</th>\n      <td>10450</td>\n      <td>2010-02-17</td>\n      <td>M</td>\n      <td>2015-02-17</td>\n      <td>59</td>\n      <td>-0.638659</td>\n      <td>0.948175</td>\n      <td>COMPARTA 200830600</td>\n      <td>AQUITANIA</td>\n    </tr>\n    <tr>\n      <th>1</th>\n      <td>10590</td>\n      <td>2010-05-03</td>\n      <td>M</td>\n      <td>2015-03-05</td>\n      <td>59</td>\n      <td>-0.854475</td>\n      <td>0.024698</td>\n      <td>COMPARTA 200830600</td>\n      <td>AQUITANIA</td>\n    </tr>\n    <tr>\n      <th>2</th>\n      <td>10190</td>\n      <td>2010-05-01</td>\n      <td>M</td>\n      <td>2015-01-05</td>\n      <td>59</td>\n      <td>-0.854475</td>\n      <td>0.226150</td>\n      <td>COMPARTA 200830600</td>\n      <td>AQUITANIA</td>\n    </tr>\n    <tr>\n      <th>3</th>\n      <td>10663</td>\n      <td>2010-03-17</td>\n      <td>F</td>\n      <td>2015-03-17</td>\n      <td>59</td>\n      <td>-0.929064</td>\n      <td>-0.519700</td>\n      <td>COMPARTA 200830600</td>\n      <td>AQUITANIA</td>\n    </tr>\n    <tr>\n      <th>4</th>\n      <td>10583</td>\n      <td>2010-05-03</td>\n      <td>F</td>\n      <td>2015-03-05</td>\n      <td>59</td>\n      <td>-2.611035</td>\n      <td>-0.318776</td>\n      <td>COMPARTA 200830600</td>\n      <td>AQUITANIA</td>\n    </tr>\n    <tr>\n      <th>...</th>\n      <td>...</td>\n      <td>...</td>\n      <td>...</td>\n      <td>...</td>\n      <td>...</td>\n      <td>...</td>\n      <td>...</td>\n      <td>...</td>\n      <td>...</td>\n    </tr>\n    <tr>\n      <th>10465</th>\n      <td>27783</td>\n      <td>2015-09-11</td>\n      <td>F</td>\n      <td>2019-10-08</td>\n      <td>46</td>\n      <td>-3.306196</td>\n      <td>-1.136813</td>\n      <td>COMPARTA 200830600</td>\n      <td>AQUITANIA</td>\n    </tr>\n    <tr>\n      <th>10466</th>\n      <td>27788</td>\n      <td>2015-09-25</td>\n      <td>M</td>\n      <td>2019-10-08</td>\n      <td>48</td>\n      <td>-1.322073</td>\n      <td>0.233953</td>\n      <td>COMPARTA 200830600</td>\n      <td>AQUITANIA</td>\n    </tr>\n    <tr>\n      <th>10467</th>\n      <td>27789</td>\n      <td>2018-05-31</td>\n      <td>M</td>\n      <td>2019-10-08</td>\n      <td>16</td>\n      <td>-0.954107</td>\n      <td>-0.099158</td>\n      <td>COMPARTA 200830600</td>\n      <td>AQUITANIA</td>\n    </tr>\n    <tr>\n      <th>10468</th>\n      <td>27790</td>\n      <td>2014-08-10</td>\n      <td>M</td>\n      <td>2019-10-08</td>\n      <td>59</td>\n      <td>-1.286107</td>\n      <td>0.327725</td>\n      <td>COMFAMILIAR 200738100</td>\n      <td>AQUITANIA</td>\n    </tr>\n    <tr>\n      <th>10469</th>\n      <td>27791</td>\n      <td>2019-06-04</td>\n      <td>F</td>\n      <td>2019-10-08</td>\n      <td>6</td>\n      <td>-1.475742</td>\n      <td>1.251433</td>\n      <td>NUEVA EPS SUBSIDIADA AQUITANIA</td>\n      <td>AQUITANIA</td>\n    </tr>\n  </tbody>\n</table>\n<p>10456 rows × 9 columns</p>\n</div>"
     },
     "metadata": {},
     "execution_count": 7
    }
   ],
   "source": [
    "by.funcion_boyaca(\"Aquitania.csv\")"
   ]
  },
  {
   "cell_type": "code",
   "execution_count": 8,
   "metadata": {},
   "outputs": [
    {
     "output_type": "stream",
     "name": "stdout",
     "text": [
      "Unnamed: 0           int64\nInternoNumerico      int64\nFecha Nto           object\nSexo                object\nFechaMedicion       object\nEdadBiologica        int64\nZetaTE             float64\nZetaPT             float64\nAdministradora      object\nMunicipio           object\ndtype: object Index(['Unnamed: 0', 'InternoNumerico', 'Fecha Nto', 'Sexo', 'FechaMedicion',\n       'EdadBiologica', 'ZetaTE', 'ZetaPT', 'Administradora', 'Municipio'],\n      dtype='object') Unnamed: 0         0\nInternoNumerico    0\nFecha Nto          0\nSexo               0\nFechaMedicion      0\nEdadBiologica      0\nZetaTE             0\nZetaPT             0\nAdministradora     0\nMunicipio          0\ndtype: int64 (7735, 10)\n"
     ]
    },
    {
     "output_type": "execute_result",
     "data": {
      "text/plain": [
       "      InternoNumerico  Fecha Nto Sexo FechaMedicion  EdadBiologica    ZetaTE  \\\n",
       "0                   4 2013-12-11    M    2016-11-23             36 -1.697836   \n",
       "1                   5 2015-11-03    M    2016-11-23             20 -3.037673   \n",
       "2                   6 2012-02-02    M    2016-11-23             57 -2.571101   \n",
       "3                   8 2015-12-25    F    2016-11-23             10 -0.292088   \n",
       "4                   9 2012-10-30    F    2016-11-23             48 -1.428093   \n",
       "...               ...        ...  ...           ...            ...       ...   \n",
       "7730            12016 2016-01-26    M    2020-05-15             51 -4.007863   \n",
       "7731            12017 2016-08-26    F    2020-05-15             44 -5.196996   \n",
       "7732            12018 2018-04-14    M    2020-05-15             25 -2.886643   \n",
       "7733            12019 2020-01-19    M    2020-05-18              3 -1.319315   \n",
       "7734            12020 2019-03-07    M    2020-05-19             10 -1.282868   \n",
       "\n",
       "        ZetaPT                 Administradora Municipio  \n",
       "0     0.574431                SANIDAD MILITAR    CUBARA  \n",
       "1     3.375138  COMPARTA CUBARA INDIGENA SUBS    CUBARA  \n",
       "2     1.147857  COMPARTA CUBARA INDIGENA SUBS    CUBARA  \n",
       "3     0.764791           MEDIMAS CONTRIBUTIVO    CUBARA  \n",
       "4    -0.729488     COOSALUD CUBARA SUBSIDIADO    CUBARA  \n",
       "...        ...                            ...       ...  \n",
       "7730 -0.211172  COMPARTA CUBARA INDIGENA SUBS    CUBARA  \n",
       "7731  1.304303  COMPARTA CUBARA INDIGENA SUBS    CUBARA  \n",
       "7732 -0.237354  COMPARTA CUBARA INDIGENA SUBS    CUBARA  \n",
       "7733 -0.726668  COMPARTA CUBARA INDIGENA SUBS    CUBARA  \n",
       "7734 -0.803595     COOSALUD CUBARA SUBSIDIADO    CUBARA  \n",
       "\n",
       "[5091 rows x 9 columns]"
      ],
      "text/html": "<div>\n<style scoped>\n    .dataframe tbody tr th:only-of-type {\n        vertical-align: middle;\n    }\n\n    .dataframe tbody tr th {\n        vertical-align: top;\n    }\n\n    .dataframe thead th {\n        text-align: right;\n    }\n</style>\n<table border=\"1\" class=\"dataframe\">\n  <thead>\n    <tr style=\"text-align: right;\">\n      <th></th>\n      <th>InternoNumerico</th>\n      <th>Fecha Nto</th>\n      <th>Sexo</th>\n      <th>FechaMedicion</th>\n      <th>EdadBiologica</th>\n      <th>ZetaTE</th>\n      <th>ZetaPT</th>\n      <th>Administradora</th>\n      <th>Municipio</th>\n    </tr>\n  </thead>\n  <tbody>\n    <tr>\n      <th>0</th>\n      <td>4</td>\n      <td>2013-12-11</td>\n      <td>M</td>\n      <td>2016-11-23</td>\n      <td>36</td>\n      <td>-1.697836</td>\n      <td>0.574431</td>\n      <td>SANIDAD MILITAR</td>\n      <td>CUBARA</td>\n    </tr>\n    <tr>\n      <th>1</th>\n      <td>5</td>\n      <td>2015-11-03</td>\n      <td>M</td>\n      <td>2016-11-23</td>\n      <td>20</td>\n      <td>-3.037673</td>\n      <td>3.375138</td>\n      <td>COMPARTA CUBARA INDIGENA SUBS</td>\n      <td>CUBARA</td>\n    </tr>\n    <tr>\n      <th>2</th>\n      <td>6</td>\n      <td>2012-02-02</td>\n      <td>M</td>\n      <td>2016-11-23</td>\n      <td>57</td>\n      <td>-2.571101</td>\n      <td>1.147857</td>\n      <td>COMPARTA CUBARA INDIGENA SUBS</td>\n      <td>CUBARA</td>\n    </tr>\n    <tr>\n      <th>3</th>\n      <td>8</td>\n      <td>2015-12-25</td>\n      <td>F</td>\n      <td>2016-11-23</td>\n      <td>10</td>\n      <td>-0.292088</td>\n      <td>0.764791</td>\n      <td>MEDIMAS CONTRIBUTIVO</td>\n      <td>CUBARA</td>\n    </tr>\n    <tr>\n      <th>4</th>\n      <td>9</td>\n      <td>2012-10-30</td>\n      <td>F</td>\n      <td>2016-11-23</td>\n      <td>48</td>\n      <td>-1.428093</td>\n      <td>-0.729488</td>\n      <td>COOSALUD CUBARA SUBSIDIADO</td>\n      <td>CUBARA</td>\n    </tr>\n    <tr>\n      <th>...</th>\n      <td>...</td>\n      <td>...</td>\n      <td>...</td>\n      <td>...</td>\n      <td>...</td>\n      <td>...</td>\n      <td>...</td>\n      <td>...</td>\n      <td>...</td>\n    </tr>\n    <tr>\n      <th>7730</th>\n      <td>12016</td>\n      <td>2016-01-26</td>\n      <td>M</td>\n      <td>2020-05-15</td>\n      <td>51</td>\n      <td>-4.007863</td>\n      <td>-0.211172</td>\n      <td>COMPARTA CUBARA INDIGENA SUBS</td>\n      <td>CUBARA</td>\n    </tr>\n    <tr>\n      <th>7731</th>\n      <td>12017</td>\n      <td>2016-08-26</td>\n      <td>F</td>\n      <td>2020-05-15</td>\n      <td>44</td>\n      <td>-5.196996</td>\n      <td>1.304303</td>\n      <td>COMPARTA CUBARA INDIGENA SUBS</td>\n      <td>CUBARA</td>\n    </tr>\n    <tr>\n      <th>7732</th>\n      <td>12018</td>\n      <td>2018-04-14</td>\n      <td>M</td>\n      <td>2020-05-15</td>\n      <td>25</td>\n      <td>-2.886643</td>\n      <td>-0.237354</td>\n      <td>COMPARTA CUBARA INDIGENA SUBS</td>\n      <td>CUBARA</td>\n    </tr>\n    <tr>\n      <th>7733</th>\n      <td>12019</td>\n      <td>2020-01-19</td>\n      <td>M</td>\n      <td>2020-05-18</td>\n      <td>3</td>\n      <td>-1.319315</td>\n      <td>-0.726668</td>\n      <td>COMPARTA CUBARA INDIGENA SUBS</td>\n      <td>CUBARA</td>\n    </tr>\n    <tr>\n      <th>7734</th>\n      <td>12020</td>\n      <td>2019-03-07</td>\n      <td>M</td>\n      <td>2020-05-19</td>\n      <td>10</td>\n      <td>-1.282868</td>\n      <td>-0.803595</td>\n      <td>COOSALUD CUBARA SUBSIDIADO</td>\n      <td>CUBARA</td>\n    </tr>\n  </tbody>\n</table>\n<p>5091 rows × 9 columns</p>\n</div>"
     },
     "metadata": {},
     "execution_count": 8
    }
   ],
   "source": [
    " by.funcion_boyaca(\"Cubara.csv\")"
   ]
  },
  {
   "cell_type": "code",
   "execution_count": 9,
   "metadata": {},
   "outputs": [
    {
     "output_type": "stream",
     "name": "stdout",
     "text": [
      "Unnamed: 0           int64\nInternoNumerico      int64\nFecha Nto           object\nSexo                object\nFechaMedicion       object\nEdadBiologica        int64\nZetaTE             float64\nZetaPT             float64\nAdministradora      object\nMunicipio           object\ndtype: object Index(['Unnamed: 0', 'InternoNumerico', 'Fecha Nto', 'Sexo', 'FechaMedicion',\n       'EdadBiologica', 'ZetaTE', 'ZetaPT', 'Administradora', 'Municipio'],\n      dtype='object') Unnamed: 0         0\nInternoNumerico    0\nFecha Nto          0\nSexo               0\nFechaMedicion      0\nEdadBiologica      0\nZetaTE             0\nZetaPT             0\nAdministradora     0\nMunicipio          0\ndtype: int64 (12000, 10)\n"
     ]
    },
    {
     "output_type": "execute_result",
     "data": {
      "text/plain": [
       "       InternoNumerico  Fecha Nto Sexo FechaMedicion  EdadBiologica    ZetaTE  \\\n",
       "0                  378 2003-06-24    M    2005-11-03             28  0.564247   \n",
       "1                  142 2003-06-24    M    2005-11-08             29  0.564247   \n",
       "2                  131 2001-08-29    M    2005-11-08             50  0.778433   \n",
       "3                   24 2002-06-23    F    2005-08-25             38 -0.846106   \n",
       "4                  377 2002-08-21    M    2005-11-03             38 -0.659422   \n",
       "...                ...        ...  ...           ...            ...       ...   \n",
       "11995            19298 2018-10-17    M    2020-07-17             20 -1.784734   \n",
       "11996            19299 2019-11-16    F    2020-07-17              8  1.575688   \n",
       "11997            19300 2016-01-16    M    2020-07-17             54 -0.831987   \n",
       "11998            19301 2019-09-03    F    2020-07-17             16 -1.037690   \n",
       "11999            19302 2020-02-02    F    2020-07-17              5 -0.130751   \n",
       "\n",
       "         ZetaPT          Administradora Municipio  \n",
       "0      0.175672            PARTICULARES   COMBITA  \n",
       "1      0.175672            PARTICULARES   COMBITA  \n",
       "2     -1.553833            PARTICULARES   COMBITA  \n",
       "3     -0.549040            PARTICULARES   COMBITA  \n",
       "4     -0.275369     COOSALUD SUBSIDIADO   COMBITA  \n",
       "...         ...                     ...       ...  \n",
       "11995  0.060280     COOSALUD SUBSIDIADO   COMBITA  \n",
       "11996 -1.646032     COOSALUD SUBSIDIADO   COMBITA  \n",
       "11997  0.548717     COOSALUD SUBSIDIADO   COMBITA  \n",
       "11998  0.311171  COMFAMILIAR SUBSIDIADO   COMBITA  \n",
       "11999 -1.919778    NUEVA EPS SUBSIDIADO   COMBITA  \n",
       "\n",
       "[11980 rows x 9 columns]"
      ],
      "text/html": "<div>\n<style scoped>\n    .dataframe tbody tr th:only-of-type {\n        vertical-align: middle;\n    }\n\n    .dataframe tbody tr th {\n        vertical-align: top;\n    }\n\n    .dataframe thead th {\n        text-align: right;\n    }\n</style>\n<table border=\"1\" class=\"dataframe\">\n  <thead>\n    <tr style=\"text-align: right;\">\n      <th></th>\n      <th>InternoNumerico</th>\n      <th>Fecha Nto</th>\n      <th>Sexo</th>\n      <th>FechaMedicion</th>\n      <th>EdadBiologica</th>\n      <th>ZetaTE</th>\n      <th>ZetaPT</th>\n      <th>Administradora</th>\n      <th>Municipio</th>\n    </tr>\n  </thead>\n  <tbody>\n    <tr>\n      <th>0</th>\n      <td>378</td>\n      <td>2003-06-24</td>\n      <td>M</td>\n      <td>2005-11-03</td>\n      <td>28</td>\n      <td>0.564247</td>\n      <td>0.175672</td>\n      <td>PARTICULARES</td>\n      <td>COMBITA</td>\n    </tr>\n    <tr>\n      <th>1</th>\n      <td>142</td>\n      <td>2003-06-24</td>\n      <td>M</td>\n      <td>2005-11-08</td>\n      <td>29</td>\n      <td>0.564247</td>\n      <td>0.175672</td>\n      <td>PARTICULARES</td>\n      <td>COMBITA</td>\n    </tr>\n    <tr>\n      <th>2</th>\n      <td>131</td>\n      <td>2001-08-29</td>\n      <td>M</td>\n      <td>2005-11-08</td>\n      <td>50</td>\n      <td>0.778433</td>\n      <td>-1.553833</td>\n      <td>PARTICULARES</td>\n      <td>COMBITA</td>\n    </tr>\n    <tr>\n      <th>3</th>\n      <td>24</td>\n      <td>2002-06-23</td>\n      <td>F</td>\n      <td>2005-08-25</td>\n      <td>38</td>\n      <td>-0.846106</td>\n      <td>-0.549040</td>\n      <td>PARTICULARES</td>\n      <td>COMBITA</td>\n    </tr>\n    <tr>\n      <th>4</th>\n      <td>377</td>\n      <td>2002-08-21</td>\n      <td>M</td>\n      <td>2005-11-03</td>\n      <td>38</td>\n      <td>-0.659422</td>\n      <td>-0.275369</td>\n      <td>COOSALUD SUBSIDIADO</td>\n      <td>COMBITA</td>\n    </tr>\n    <tr>\n      <th>...</th>\n      <td>...</td>\n      <td>...</td>\n      <td>...</td>\n      <td>...</td>\n      <td>...</td>\n      <td>...</td>\n      <td>...</td>\n      <td>...</td>\n      <td>...</td>\n    </tr>\n    <tr>\n      <th>11995</th>\n      <td>19298</td>\n      <td>2018-10-17</td>\n      <td>M</td>\n      <td>2020-07-17</td>\n      <td>20</td>\n      <td>-1.784734</td>\n      <td>0.060280</td>\n      <td>COOSALUD SUBSIDIADO</td>\n      <td>COMBITA</td>\n    </tr>\n    <tr>\n      <th>11996</th>\n      <td>19299</td>\n      <td>2019-11-16</td>\n      <td>F</td>\n      <td>2020-07-17</td>\n      <td>8</td>\n      <td>1.575688</td>\n      <td>-1.646032</td>\n      <td>COOSALUD SUBSIDIADO</td>\n      <td>COMBITA</td>\n    </tr>\n    <tr>\n      <th>11997</th>\n      <td>19300</td>\n      <td>2016-01-16</td>\n      <td>M</td>\n      <td>2020-07-17</td>\n      <td>54</td>\n      <td>-0.831987</td>\n      <td>0.548717</td>\n      <td>COOSALUD SUBSIDIADO</td>\n      <td>COMBITA</td>\n    </tr>\n    <tr>\n      <th>11998</th>\n      <td>19301</td>\n      <td>2019-09-03</td>\n      <td>F</td>\n      <td>2020-07-17</td>\n      <td>16</td>\n      <td>-1.037690</td>\n      <td>0.311171</td>\n      <td>COMFAMILIAR SUBSIDIADO</td>\n      <td>COMBITA</td>\n    </tr>\n    <tr>\n      <th>11999</th>\n      <td>19302</td>\n      <td>2020-02-02</td>\n      <td>F</td>\n      <td>2020-07-17</td>\n      <td>5</td>\n      <td>-0.130751</td>\n      <td>-1.919778</td>\n      <td>NUEVA EPS SUBSIDIADO</td>\n      <td>COMBITA</td>\n    </tr>\n  </tbody>\n</table>\n<p>11980 rows × 9 columns</p>\n</div>"
     },
     "metadata": {},
     "execution_count": 9
    }
   ],
   "source": [
    " by.funcion_boyaca(\"Combitacsv\")"
   ]
  },
  {
   "cell_type": "code",
   "execution_count": 3,
   "metadata": {},
   "outputs": [
    {
     "output_type": "execute_result",
     "data": {
      "text/plain": [
       "      InternoNumerico   Fecha Nto Sexo FechaMedicion  EdadBiologica    ZetaTE  \\\n",
       "0               10450  2010-02-17    M    2015-02-17             59 -0.638659   \n",
       "1               10590  2010-05-03    M    2015-03-05             59 -0.854475   \n",
       "2               10190  2010-05-01    M    2015-01-05             59 -0.854475   \n",
       "3               10663  2010-03-17    F    2015-03-17             59 -0.929064   \n",
       "4               10583  2010-05-03    F    2015-03-05             59 -2.611035   \n",
       "...               ...         ...  ...           ...            ...       ...   \n",
       "5086            12016  2016-01-26    M    2020-05-15             51 -4.007863   \n",
       "5087            12017  2016-08-26    F    2020-05-15             44 -5.196996   \n",
       "5088            12018  2018-04-14    M    2020-05-15             25 -2.886643   \n",
       "5089            12019  2020-01-19    M    2020-05-18              3 -1.319315   \n",
       "5090            12020  2019-03-07    M    2020-05-19             10 -1.282868   \n",
       "\n",
       "        ZetaPT                 Administradora  Municipio  \n",
       "0     0.948175             COMPARTA 200830600  AQUITANIA  \n",
       "1     0.024698             COMPARTA 200830600  AQUITANIA  \n",
       "2     0.226150             COMPARTA 200830600  AQUITANIA  \n",
       "3    -0.519700             COMPARTA 200830600  AQUITANIA  \n",
       "4    -0.318776             COMPARTA 200830600  AQUITANIA  \n",
       "...        ...                            ...        ...  \n",
       "5086 -0.211172  COMPARTA CUBARA INDIGENA SUBS     CUBARA  \n",
       "5087  1.304303  COMPARTA CUBARA INDIGENA SUBS     CUBARA  \n",
       "5088 -0.237354  COMPARTA CUBARA INDIGENA SUBS     CUBARA  \n",
       "5089 -0.726668  COMPARTA CUBARA INDIGENA SUBS     CUBARA  \n",
       "5090 -0.803595     COOSALUD CUBARA SUBSIDIADO     CUBARA  \n",
       "\n",
       "[27527 rows x 9 columns]"
      ],
      "text/html": "<div>\n<style scoped>\n    .dataframe tbody tr th:only-of-type {\n        vertical-align: middle;\n    }\n\n    .dataframe tbody tr th {\n        vertical-align: top;\n    }\n\n    .dataframe thead th {\n        text-align: right;\n    }\n</style>\n<table border=\"1\" class=\"dataframe\">\n  <thead>\n    <tr style=\"text-align: right;\">\n      <th></th>\n      <th>InternoNumerico</th>\n      <th>Fecha Nto</th>\n      <th>Sexo</th>\n      <th>FechaMedicion</th>\n      <th>EdadBiologica</th>\n      <th>ZetaTE</th>\n      <th>ZetaPT</th>\n      <th>Administradora</th>\n      <th>Municipio</th>\n    </tr>\n  </thead>\n  <tbody>\n    <tr>\n      <th>0</th>\n      <td>10450</td>\n      <td>2010-02-17</td>\n      <td>M</td>\n      <td>2015-02-17</td>\n      <td>59</td>\n      <td>-0.638659</td>\n      <td>0.948175</td>\n      <td>COMPARTA 200830600</td>\n      <td>AQUITANIA</td>\n    </tr>\n    <tr>\n      <th>1</th>\n      <td>10590</td>\n      <td>2010-05-03</td>\n      <td>M</td>\n      <td>2015-03-05</td>\n      <td>59</td>\n      <td>-0.854475</td>\n      <td>0.024698</td>\n      <td>COMPARTA 200830600</td>\n      <td>AQUITANIA</td>\n    </tr>\n    <tr>\n      <th>2</th>\n      <td>10190</td>\n      <td>2010-05-01</td>\n      <td>M</td>\n      <td>2015-01-05</td>\n      <td>59</td>\n      <td>-0.854475</td>\n      <td>0.226150</td>\n      <td>COMPARTA 200830600</td>\n      <td>AQUITANIA</td>\n    </tr>\n    <tr>\n      <th>3</th>\n      <td>10663</td>\n      <td>2010-03-17</td>\n      <td>F</td>\n      <td>2015-03-17</td>\n      <td>59</td>\n      <td>-0.929064</td>\n      <td>-0.519700</td>\n      <td>COMPARTA 200830600</td>\n      <td>AQUITANIA</td>\n    </tr>\n    <tr>\n      <th>4</th>\n      <td>10583</td>\n      <td>2010-05-03</td>\n      <td>F</td>\n      <td>2015-03-05</td>\n      <td>59</td>\n      <td>-2.611035</td>\n      <td>-0.318776</td>\n      <td>COMPARTA 200830600</td>\n      <td>AQUITANIA</td>\n    </tr>\n    <tr>\n      <th>...</th>\n      <td>...</td>\n      <td>...</td>\n      <td>...</td>\n      <td>...</td>\n      <td>...</td>\n      <td>...</td>\n      <td>...</td>\n      <td>...</td>\n      <td>...</td>\n    </tr>\n    <tr>\n      <th>5086</th>\n      <td>12016</td>\n      <td>2016-01-26</td>\n      <td>M</td>\n      <td>2020-05-15</td>\n      <td>51</td>\n      <td>-4.007863</td>\n      <td>-0.211172</td>\n      <td>COMPARTA CUBARA INDIGENA SUBS</td>\n      <td>CUBARA</td>\n    </tr>\n    <tr>\n      <th>5087</th>\n      <td>12017</td>\n      <td>2016-08-26</td>\n      <td>F</td>\n      <td>2020-05-15</td>\n      <td>44</td>\n      <td>-5.196996</td>\n      <td>1.304303</td>\n      <td>COMPARTA CUBARA INDIGENA SUBS</td>\n      <td>CUBARA</td>\n    </tr>\n    <tr>\n      <th>5088</th>\n      <td>12018</td>\n      <td>2018-04-14</td>\n      <td>M</td>\n      <td>2020-05-15</td>\n      <td>25</td>\n      <td>-2.886643</td>\n      <td>-0.237354</td>\n      <td>COMPARTA CUBARA INDIGENA SUBS</td>\n      <td>CUBARA</td>\n    </tr>\n    <tr>\n      <th>5089</th>\n      <td>12019</td>\n      <td>2020-01-19</td>\n      <td>M</td>\n      <td>2020-05-18</td>\n      <td>3</td>\n      <td>-1.319315</td>\n      <td>-0.726668</td>\n      <td>COMPARTA CUBARA INDIGENA SUBS</td>\n      <td>CUBARA</td>\n    </tr>\n    <tr>\n      <th>5090</th>\n      <td>12020</td>\n      <td>2019-03-07</td>\n      <td>M</td>\n      <td>2020-05-19</td>\n      <td>10</td>\n      <td>-1.282868</td>\n      <td>-0.803595</td>\n      <td>COOSALUD CUBARA SUBSIDIADO</td>\n      <td>CUBARA</td>\n    </tr>\n  </tbody>\n</table>\n<p>27527 rows × 9 columns</p>\n</div>"
     },
     "metadata": {},
     "execution_count": 3
    }
   ],
   "source": [
    "by.concatenar(\"Aquitania.csv\", \"Combitacsv\",\"Cubara.csv\")"
   ]
  },
  {
   "cell_type": "code",
   "execution_count": null,
   "metadata": {},
   "outputs": [],
   "source": []
  }
 ]
}